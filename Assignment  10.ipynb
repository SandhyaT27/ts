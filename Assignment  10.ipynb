{
 "cells": [
  {
   "cell_type": "markdown",
   "metadata": {},
   "source": [
    "# Q-19. Write an SQL query to determine the 5th highest salary without using TOP or limit method."
   ]
  },
  {
   "cell_type": "markdown",
   "metadata": {},
   "source": [
    "       select e.first_name,e1.salary\n",
    "       from employees e1\n",
    "       where 5 - 1 =(select count(distinct(e2.salary) (note: # 5-1 : this will fetch the records present after 4 records)\n",
    "                     from employees e2\n",
    "                     where e2.salary > e1.salary);"
   ]
  },
  {
   "cell_type": "markdown",
   "metadata": {},
   "source": [
    "# Q-20. Write an SQL query to fetch the list of employees with the same salary."
   ]
  },
  {
   "cell_type": "markdown",
   "metadata": {},
   "source": [
    "    select e.first_name,e.salary\n",
    "    from employees e\n",
    "    inner join\n",
    "    employees m\n",
    "    where e.salary = m.salary\n",
    "    and e.first_name != m.first_name\n",
    "    order by salary;"
   ]
  }
 ],
 "metadata": {
  "kernelspec": {
   "display_name": "Python 3",
   "language": "python",
   "name": "python3"
  },
  "language_info": {
   "codemirror_mode": {
    "name": "ipython",
    "version": 3
   },
   "file_extension": ".py",
   "mimetype": "text/x-python",
   "name": "python",
   "nbconvert_exporter": "python",
   "pygments_lexer": "ipython3",
   "version": "3.8.3"
  }
 },
 "nbformat": 4,
 "nbformat_minor": 4
}
