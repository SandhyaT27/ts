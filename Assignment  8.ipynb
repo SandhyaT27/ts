{
 "cells": [
  {
   "cell_type": "markdown",
   "metadata": {},
   "source": [
    "# Q-15. Write an SQL query to fetch intersecting records of two tables."
   ]
  },
  {
   "cell_type": "markdown",
   "metadata": {},
   "source": [
    "        select * from table_1     (Note: intersect will fetch the common records from both the tables and eliminates           \n",
    "        intersect                  duplicate records whereas inner join will fetch duplicate records\n",
    "        select * from table_2;"
   ]
  },
  {
   "cell_type": "markdown",
   "metadata": {},
   "source": [
    "# Q-16. Write an SQL query to show records from one table that another table does not have."
   ]
  },
  {
   "cell_type": "markdown",
   "metadata": {},
   "source": [
    "Note:let us say we have 2 tables : sales(id,date,amount)\n",
    "                                   orders(id,date,amount)\n",
    "  Query:\n",
    "         select * \n",
    "         from sales s\n",
    "         where not exists(select *\n",
    "                          from orders o\n",
    "                          where s.date = 0.date);"
   ]
  }
 ],
 "metadata": {
  "kernelspec": {
   "display_name": "Python 3",
   "language": "python",
   "name": "python3"
  },
  "language_info": {
   "codemirror_mode": {
    "name": "ipython",
    "version": 3
   },
   "file_extension": ".py",
   "mimetype": "text/x-python",
   "name": "python",
   "nbconvert_exporter": "python",
   "pygments_lexer": "ipython3",
   "version": "3.8.3"
  }
 },
 "nbformat": 4,
 "nbformat_minor": 4
}
